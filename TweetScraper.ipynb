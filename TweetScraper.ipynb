{
 "cells": [
  {
   "cell_type": "code",
   "execution_count": 2,
   "metadata": {},
   "outputs": [
    {
     "name": "stdout",
     "output_type": "stream",
     "text": [
      "Collecting git+https://github.com/JustAnotherArchivist/snscrape.git\n",
      "  Cloning https://github.com/JustAnotherArchivist/snscrape.git to c:\\users\\gabdao~1\\appdata\\local\\temp\\pip-req-build-k92v74y4\n"
     ]
    },
    {
     "name": "stderr",
     "output_type": "stream",
     "text": [
      "  Running command git clone -q https://github.com/JustAnotherArchivist/snscrape.git 'C:\\Users\\GABDAO~1\\AppData\\Local\\Temp\\pip-req-build-k92v74y4'\n",
      "ERROR: Package 'snscrape' requires a different Python: 3.7.3 not in '~=3.8'\n"
     ]
    }
   ],
   "source": [
    "!pip install git+https://github.com/JustAnotherArchivist/snscrape.git"
   ]
  },
  {
   "cell_type": "markdown",
   "metadata": {},
   "source": [
    "## SN Scrape Twitter Extractor"
   ]
  },
  {
   "cell_type": "code",
   "execution_count": 1,
   "metadata": {},
   "outputs": [],
   "source": [
    "import snscrape.modules.twitter as sntwitter\n"
   ]
  },
  {
   "cell_type": "markdown",
   "metadata": {},
   "source": [
    "inquirerdotnet\n",
    "ABSCBNNews\n",
    "PhilstarNews\n",
    "manilabulletin\n",
    "cnnphilippines\n",
    "gmanews\n",
    "News5PH\n",
    "rapplerdotcom"
   ]
  },
  {
   "cell_type": "code",
   "execution_count": 4,
   "metadata": {},
   "outputs": [
    {
     "name": "stderr",
     "output_type": "stream",
     "text": [
      "92260it [15:12, 101.12it/s]\n"
     ]
    }
   ],
   "source": [
    "import snscrape.modules.twitter as sntwitter\n",
    "import csv\n",
    "from tqdm import tqdm\n",
    "\n",
    "maxTweets = 2000000\n",
    "\n",
    "source = 'News5PH'\n",
    "\n",
    "csvFile = open('Raw Data/' + source + '_scraped_tweets.csv', 'a', newline='', encoding='utf8')\n",
    "\n",
    "csvWriter = csv.writer(csvFile)\n",
    "csvWriter.writerow(['id','date','tweet','likes','retweets','replies','quotes'])\n",
    "\n",
    "for i,tweet in tqdm(enumerate(sntwitter.TwitterSearchScraper('from:@' + source + ' + since:2020-01-01 until:2021-03-12-filter:links -filter:replies').get_items())):\n",
    "    if i > maxTweets :\n",
    "        break\n",
    "    csvWriter.writerow([tweet.id, tweet.date, tweet.content,tweet.likeCount, tweet.retweetCount, tweet.replyCount, tweet.quoteCount])\n",
    "csvFile.close()"
   ]
  },
  {
   "cell_type": "code",
   "execution_count": null,
   "metadata": {},
   "outputs": [],
   "source": []
  }
 ],
 "metadata": {
  "kernelspec": {
   "display_name": "Python 3",
   "language": "python",
   "name": "python3"
  },
  "language_info": {
   "codemirror_mode": {
    "name": "ipython",
    "version": 3
   },
   "file_extension": ".py",
   "mimetype": "text/x-python",
   "name": "python",
   "nbconvert_exporter": "python",
   "pygments_lexer": "ipython3",
   "version": "3.8.8"
  }
 },
 "nbformat": 4,
 "nbformat_minor": 4
}
